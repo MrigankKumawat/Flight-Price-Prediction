{
 "cells": [
  {
   "cell_type": "markdown",
   "id": "080da2f0-c524-43a5-a543-2569bc39bb7f",
   "metadata": {},
   "source": [
    "### Importing Libraries"
   ]
  },
  {
   "cell_type": "code",
   "execution_count": 3,
   "id": "ce5a63ca-cd2b-4e83-a509-3dfcd6582167",
   "metadata": {},
   "outputs": [],
   "source": [
    "import pandas as pd\n",
    "import numpy as np\n",
    "import matplotlib.pyplot as plt\n",
    "import seaborn as sns"
   ]
  },
  {
   "cell_type": "code",
   "execution_count": 4,
   "id": "51676348-206c-4894-ae76-1382766b2875",
   "metadata": {},
   "outputs": [],
   "source": [
    "df = pd.read_csv(\"Dataset/Flight-Price.csv\")"
   ]
  },
  {
   "cell_type": "code",
   "execution_count": 5,
   "id": "67162067-6578-452a-9048-1857f939d548",
   "metadata": {},
   "outputs": [
    {
     "data": {
      "text/html": [
       "<div>\n",
       "<style scoped>\n",
       "    .dataframe tbody tr th:only-of-type {\n",
       "        vertical-align: middle;\n",
       "    }\n",
       "\n",
       "    .dataframe tbody tr th {\n",
       "        vertical-align: top;\n",
       "    }\n",
       "\n",
       "    .dataframe thead th {\n",
       "        text-align: right;\n",
       "    }\n",
       "</style>\n",
       "<table border=\"1\" class=\"dataframe\">\n",
       "  <thead>\n",
       "    <tr style=\"text-align: right;\">\n",
       "      <th></th>\n",
       "      <th>Unnamed: 0</th>\n",
       "      <th>airline</th>\n",
       "      <th>flight</th>\n",
       "      <th>source_city</th>\n",
       "      <th>departure_time</th>\n",
       "      <th>stops</th>\n",
       "      <th>arrival_time</th>\n",
       "      <th>destination_city</th>\n",
       "      <th>class</th>\n",
       "      <th>duration</th>\n",
       "      <th>days_left</th>\n",
       "      <th>price</th>\n",
       "    </tr>\n",
       "  </thead>\n",
       "  <tbody>\n",
       "    <tr>\n",
       "      <th>0</th>\n",
       "      <td>0</td>\n",
       "      <td>SpiceJet</td>\n",
       "      <td>SG-8709</td>\n",
       "      <td>Delhi</td>\n",
       "      <td>Evening</td>\n",
       "      <td>zero</td>\n",
       "      <td>Night</td>\n",
       "      <td>Mumbai</td>\n",
       "      <td>Economy</td>\n",
       "      <td>2.17</td>\n",
       "      <td>1</td>\n",
       "      <td>5953</td>\n",
       "    </tr>\n",
       "    <tr>\n",
       "      <th>1</th>\n",
       "      <td>1</td>\n",
       "      <td>SpiceJet</td>\n",
       "      <td>SG-8157</td>\n",
       "      <td>Delhi</td>\n",
       "      <td>Early_Morning</td>\n",
       "      <td>zero</td>\n",
       "      <td>Morning</td>\n",
       "      <td>Mumbai</td>\n",
       "      <td>Economy</td>\n",
       "      <td>2.33</td>\n",
       "      <td>1</td>\n",
       "      <td>5953</td>\n",
       "    </tr>\n",
       "    <tr>\n",
       "      <th>2</th>\n",
       "      <td>2</td>\n",
       "      <td>AirAsia</td>\n",
       "      <td>I5-764</td>\n",
       "      <td>Delhi</td>\n",
       "      <td>Early_Morning</td>\n",
       "      <td>zero</td>\n",
       "      <td>Early_Morning</td>\n",
       "      <td>Mumbai</td>\n",
       "      <td>Economy</td>\n",
       "      <td>2.17</td>\n",
       "      <td>1</td>\n",
       "      <td>5956</td>\n",
       "    </tr>\n",
       "    <tr>\n",
       "      <th>3</th>\n",
       "      <td>3</td>\n",
       "      <td>Vistara</td>\n",
       "      <td>UK-995</td>\n",
       "      <td>Delhi</td>\n",
       "      <td>Morning</td>\n",
       "      <td>zero</td>\n",
       "      <td>Afternoon</td>\n",
       "      <td>Mumbai</td>\n",
       "      <td>Economy</td>\n",
       "      <td>2.25</td>\n",
       "      <td>1</td>\n",
       "      <td>5955</td>\n",
       "    </tr>\n",
       "    <tr>\n",
       "      <th>4</th>\n",
       "      <td>4</td>\n",
       "      <td>Vistara</td>\n",
       "      <td>UK-963</td>\n",
       "      <td>Delhi</td>\n",
       "      <td>Morning</td>\n",
       "      <td>zero</td>\n",
       "      <td>Morning</td>\n",
       "      <td>Mumbai</td>\n",
       "      <td>Economy</td>\n",
       "      <td>2.33</td>\n",
       "      <td>1</td>\n",
       "      <td>5955</td>\n",
       "    </tr>\n",
       "  </tbody>\n",
       "</table>\n",
       "</div>"
      ],
      "text/plain": [
       "   Unnamed: 0   airline   flight source_city departure_time stops  \\\n",
       "0           0  SpiceJet  SG-8709       Delhi        Evening  zero   \n",
       "1           1  SpiceJet  SG-8157       Delhi  Early_Morning  zero   \n",
       "2           2   AirAsia   I5-764       Delhi  Early_Morning  zero   \n",
       "3           3   Vistara   UK-995       Delhi        Morning  zero   \n",
       "4           4   Vistara   UK-963       Delhi        Morning  zero   \n",
       "\n",
       "    arrival_time destination_city    class  duration  days_left  price  \n",
       "0          Night           Mumbai  Economy      2.17          1   5953  \n",
       "1        Morning           Mumbai  Economy      2.33          1   5953  \n",
       "2  Early_Morning           Mumbai  Economy      2.17          1   5956  \n",
       "3      Afternoon           Mumbai  Economy      2.25          1   5955  \n",
       "4        Morning           Mumbai  Economy      2.33          1   5955  "
      ]
     },
     "execution_count": 5,
     "metadata": {},
     "output_type": "execute_result"
    }
   ],
   "source": [
    "df.head()"
   ]
  },
  {
   "cell_type": "code",
   "execution_count": 6,
   "id": "0c46df94-72b0-443a-b58b-6419a928b2c6",
   "metadata": {},
   "outputs": [
    {
     "data": {
      "text/html": [
       "<div>\n",
       "<style scoped>\n",
       "    .dataframe tbody tr th:only-of-type {\n",
       "        vertical-align: middle;\n",
       "    }\n",
       "\n",
       "    .dataframe tbody tr th {\n",
       "        vertical-align: top;\n",
       "    }\n",
       "\n",
       "    .dataframe thead th {\n",
       "        text-align: right;\n",
       "    }\n",
       "</style>\n",
       "<table border=\"1\" class=\"dataframe\">\n",
       "  <thead>\n",
       "    <tr style=\"text-align: right;\">\n",
       "      <th></th>\n",
       "      <th>Unnamed: 0</th>\n",
       "      <th>airline</th>\n",
       "      <th>flight</th>\n",
       "      <th>source_city</th>\n",
       "      <th>departure_time</th>\n",
       "      <th>stops</th>\n",
       "      <th>arrival_time</th>\n",
       "      <th>destination_city</th>\n",
       "      <th>class</th>\n",
       "      <th>duration</th>\n",
       "      <th>days_left</th>\n",
       "      <th>price</th>\n",
       "    </tr>\n",
       "  </thead>\n",
       "  <tbody>\n",
       "    <tr>\n",
       "      <th>300148</th>\n",
       "      <td>300148</td>\n",
       "      <td>Vistara</td>\n",
       "      <td>UK-822</td>\n",
       "      <td>Chennai</td>\n",
       "      <td>Morning</td>\n",
       "      <td>one</td>\n",
       "      <td>Evening</td>\n",
       "      <td>Hyderabad</td>\n",
       "      <td>Business</td>\n",
       "      <td>10.08</td>\n",
       "      <td>49</td>\n",
       "      <td>69265</td>\n",
       "    </tr>\n",
       "    <tr>\n",
       "      <th>300149</th>\n",
       "      <td>300149</td>\n",
       "      <td>Vistara</td>\n",
       "      <td>UK-826</td>\n",
       "      <td>Chennai</td>\n",
       "      <td>Afternoon</td>\n",
       "      <td>one</td>\n",
       "      <td>Night</td>\n",
       "      <td>Hyderabad</td>\n",
       "      <td>Business</td>\n",
       "      <td>10.42</td>\n",
       "      <td>49</td>\n",
       "      <td>77105</td>\n",
       "    </tr>\n",
       "    <tr>\n",
       "      <th>300150</th>\n",
       "      <td>300150</td>\n",
       "      <td>Vistara</td>\n",
       "      <td>UK-832</td>\n",
       "      <td>Chennai</td>\n",
       "      <td>Early_Morning</td>\n",
       "      <td>one</td>\n",
       "      <td>Night</td>\n",
       "      <td>Hyderabad</td>\n",
       "      <td>Business</td>\n",
       "      <td>13.83</td>\n",
       "      <td>49</td>\n",
       "      <td>79099</td>\n",
       "    </tr>\n",
       "    <tr>\n",
       "      <th>300151</th>\n",
       "      <td>300151</td>\n",
       "      <td>Vistara</td>\n",
       "      <td>UK-828</td>\n",
       "      <td>Chennai</td>\n",
       "      <td>Early_Morning</td>\n",
       "      <td>one</td>\n",
       "      <td>Evening</td>\n",
       "      <td>Hyderabad</td>\n",
       "      <td>Business</td>\n",
       "      <td>10.00</td>\n",
       "      <td>49</td>\n",
       "      <td>81585</td>\n",
       "    </tr>\n",
       "    <tr>\n",
       "      <th>300152</th>\n",
       "      <td>300152</td>\n",
       "      <td>Vistara</td>\n",
       "      <td>UK-822</td>\n",
       "      <td>Chennai</td>\n",
       "      <td>Morning</td>\n",
       "      <td>one</td>\n",
       "      <td>Evening</td>\n",
       "      <td>Hyderabad</td>\n",
       "      <td>Business</td>\n",
       "      <td>10.08</td>\n",
       "      <td>49</td>\n",
       "      <td>81585</td>\n",
       "    </tr>\n",
       "  </tbody>\n",
       "</table>\n",
       "</div>"
      ],
      "text/plain": [
       "        Unnamed: 0  airline  flight source_city departure_time stops  \\\n",
       "300148      300148  Vistara  UK-822     Chennai        Morning   one   \n",
       "300149      300149  Vistara  UK-826     Chennai      Afternoon   one   \n",
       "300150      300150  Vistara  UK-832     Chennai  Early_Morning   one   \n",
       "300151      300151  Vistara  UK-828     Chennai  Early_Morning   one   \n",
       "300152      300152  Vistara  UK-822     Chennai        Morning   one   \n",
       "\n",
       "       arrival_time destination_city     class  duration  days_left  price  \n",
       "300148      Evening        Hyderabad  Business     10.08         49  69265  \n",
       "300149        Night        Hyderabad  Business     10.42         49  77105  \n",
       "300150        Night        Hyderabad  Business     13.83         49  79099  \n",
       "300151      Evening        Hyderabad  Business     10.00         49  81585  \n",
       "300152      Evening        Hyderabad  Business     10.08         49  81585  "
      ]
     },
     "execution_count": 6,
     "metadata": {},
     "output_type": "execute_result"
    }
   ],
   "source": [
    "df.tail()"
   ]
  },
  {
   "cell_type": "code",
   "execution_count": 7,
   "id": "a328abe1-592a-4a11-8828-ab12bc59e6ae",
   "metadata": {},
   "outputs": [
    {
     "data": {
      "text/html": [
       "<div>\n",
       "<style scoped>\n",
       "    .dataframe tbody tr th:only-of-type {\n",
       "        vertical-align: middle;\n",
       "    }\n",
       "\n",
       "    .dataframe tbody tr th {\n",
       "        vertical-align: top;\n",
       "    }\n",
       "\n",
       "    .dataframe thead th {\n",
       "        text-align: right;\n",
       "    }\n",
       "</style>\n",
       "<table border=\"1\" class=\"dataframe\">\n",
       "  <thead>\n",
       "    <tr style=\"text-align: right;\">\n",
       "      <th></th>\n",
       "      <th>Unnamed: 0</th>\n",
       "      <th>duration</th>\n",
       "      <th>days_left</th>\n",
       "      <th>price</th>\n",
       "    </tr>\n",
       "  </thead>\n",
       "  <tbody>\n",
       "    <tr>\n",
       "      <th>count</th>\n",
       "      <td>300153.000000</td>\n",
       "      <td>300153.000000</td>\n",
       "      <td>300153.000000</td>\n",
       "      <td>300153.000000</td>\n",
       "    </tr>\n",
       "    <tr>\n",
       "      <th>mean</th>\n",
       "      <td>150076.000000</td>\n",
       "      <td>12.221021</td>\n",
       "      <td>26.004751</td>\n",
       "      <td>20889.660523</td>\n",
       "    </tr>\n",
       "    <tr>\n",
       "      <th>std</th>\n",
       "      <td>86646.852011</td>\n",
       "      <td>7.191997</td>\n",
       "      <td>13.561004</td>\n",
       "      <td>22697.767366</td>\n",
       "    </tr>\n",
       "    <tr>\n",
       "      <th>min</th>\n",
       "      <td>0.000000</td>\n",
       "      <td>0.830000</td>\n",
       "      <td>1.000000</td>\n",
       "      <td>1105.000000</td>\n",
       "    </tr>\n",
       "    <tr>\n",
       "      <th>25%</th>\n",
       "      <td>75038.000000</td>\n",
       "      <td>6.830000</td>\n",
       "      <td>15.000000</td>\n",
       "      <td>4783.000000</td>\n",
       "    </tr>\n",
       "    <tr>\n",
       "      <th>50%</th>\n",
       "      <td>150076.000000</td>\n",
       "      <td>11.250000</td>\n",
       "      <td>26.000000</td>\n",
       "      <td>7425.000000</td>\n",
       "    </tr>\n",
       "    <tr>\n",
       "      <th>75%</th>\n",
       "      <td>225114.000000</td>\n",
       "      <td>16.170000</td>\n",
       "      <td>38.000000</td>\n",
       "      <td>42521.000000</td>\n",
       "    </tr>\n",
       "    <tr>\n",
       "      <th>max</th>\n",
       "      <td>300152.000000</td>\n",
       "      <td>49.830000</td>\n",
       "      <td>49.000000</td>\n",
       "      <td>123071.000000</td>\n",
       "    </tr>\n",
       "  </tbody>\n",
       "</table>\n",
       "</div>"
      ],
      "text/plain": [
       "          Unnamed: 0       duration      days_left          price\n",
       "count  300153.000000  300153.000000  300153.000000  300153.000000\n",
       "mean   150076.000000      12.221021      26.004751   20889.660523\n",
       "std     86646.852011       7.191997      13.561004   22697.767366\n",
       "min         0.000000       0.830000       1.000000    1105.000000\n",
       "25%     75038.000000       6.830000      15.000000    4783.000000\n",
       "50%    150076.000000      11.250000      26.000000    7425.000000\n",
       "75%    225114.000000      16.170000      38.000000   42521.000000\n",
       "max    300152.000000      49.830000      49.000000  123071.000000"
      ]
     },
     "execution_count": 7,
     "metadata": {},
     "output_type": "execute_result"
    }
   ],
   "source": [
    "df.describe()"
   ]
  },
  {
   "cell_type": "code",
   "execution_count": 8,
   "id": "4ecdebb6-ec0f-4507-97d0-bc86ddfd17d6",
   "metadata": {},
   "outputs": [],
   "source": [
    "df.drop([\"Unnamed: 0\", \"flight\"], axis = 1, inplace = True)"
   ]
  },
  {
   "cell_type": "code",
   "execution_count": 9,
   "id": "a493d3bf-f8bb-4b2e-9658-b923d0bf491f",
   "metadata": {},
   "outputs": [
    {
     "data": {
      "text/plain": [
       "airline             0\n",
       "source_city         0\n",
       "departure_time      0\n",
       "stops               0\n",
       "arrival_time        0\n",
       "destination_city    0\n",
       "class               0\n",
       "duration            0\n",
       "days_left           0\n",
       "price               0\n",
       "dtype: int64"
      ]
     },
     "execution_count": 9,
     "metadata": {},
     "output_type": "execute_result"
    }
   ],
   "source": [
    "df.isnull().sum()"
   ]
  },
  {
   "cell_type": "code",
   "execution_count": 10,
   "id": "4793f60b-0a30-41c0-a456-fd2e630e497e",
   "metadata": {},
   "outputs": [
    {
     "data": {
      "text/plain": [
       "2213"
      ]
     },
     "execution_count": 10,
     "metadata": {},
     "output_type": "execute_result"
    }
   ],
   "source": [
    "df.duplicated().sum()"
   ]
  },
  {
   "cell_type": "code",
   "execution_count": 11,
   "id": "ccb89dc5-bff9-463e-abce-1419c30ba0ac",
   "metadata": {},
   "outputs": [],
   "source": [
    "df.drop_duplicates(inplace = True)"
   ]
  },
  {
   "cell_type": "code",
   "execution_count": 12,
   "id": "1ad28267-6f3c-4ac3-a390-667ce9ff5ac8",
   "metadata": {},
   "outputs": [
    {
     "data": {
      "text/plain": [
       "0"
      ]
     },
     "execution_count": 12,
     "metadata": {},
     "output_type": "execute_result"
    }
   ],
   "source": [
    "df.duplicated().sum()"
   ]
  },
  {
   "cell_type": "markdown",
   "id": "38f58f48-e26f-4e9d-99de-d8c730c38c1e",
   "metadata": {},
   "source": [
    "## Machine Learning"
   ]
  },
  {
   "cell_type": "markdown",
   "id": "0d6d9c4f-f897-4f7f-9e7b-c4ceffc3b8c6",
   "metadata": {},
   "source": [
    "### Importing Libraries"
   ]
  },
  {
   "cell_type": "code",
   "execution_count": 13,
   "id": "65c56db0-cb86-43c5-bd37-350409959937",
   "metadata": {},
   "outputs": [],
   "source": [
    "from sklearn.preprocessing import StandardScaler\n",
    "from sklearn.model_selection import StratifiedShuffleSplit\n",
    "from sklearn.pipeline import Pipeline\n",
    "from sklearn.impute import SimpleImputer\n",
    "from sklearn.preprocessing import OneHotEncoder\n",
    "from sklearn.compose import ColumnTransformer\n",
    "from sklearn.linear_model import LinearRegression\n",
    "from sklearn.ensemble import RandomForestRegressor\n",
    "from sklearn.ensemble import GradientBoostingRegressor\n",
    "from sklearn.metrics import r2_score\n",
    "from sklearn.metrics import mean_absolute_error\n",
    "from sklearn.metrics import root_mean_squared_error\n",
    "from sklearn.model_selection import cross_val_score"
   ]
  },
  {
   "cell_type": "markdown",
   "id": "444b0ab8-1da9-43c8-ae43-67f7feb79f63",
   "metadata": {},
   "source": [
    "### Stratified Shuffle Split"
   ]
  },
  {
   "cell_type": "code",
   "execution_count": 14,
   "id": "ab2dc36f-5ddd-4c68-82ff-30dbe80349bf",
   "metadata": {},
   "outputs": [],
   "source": [
    "df['price_cat'] = pd.cut(df['price'], bins = [0, 5000, 10000, 20000, 40000, np.inf], labels = [1, 2, 3, 4, 5])\n",
    "split = StratifiedShuffleSplit(n_splits = 1, test_size = 0.2, random_state = 42)\n",
    "for train_set, test_set in split.split(df, df['price_cat']):\n",
    "    strat_train_set = df.iloc[train_set]\n",
    "    strat_test_set = df.iloc[test_set]"
   ]
  },
  {
   "cell_type": "markdown",
   "id": "47459876-3862-4229-bf61-bc6f1ccccf27",
   "metadata": {},
   "source": [
    "### Copying the Training Set"
   ]
  },
  {
   "cell_type": "code",
   "execution_count": 13,
   "id": "ab8e1523-88f4-4f6a-927c-7ad47eea09ba",
   "metadata": {},
   "outputs": [],
   "source": [
    "flight_train = strat_train_set.copy()"
   ]
  },
  {
   "cell_type": "markdown",
   "id": "0ed63aea-ada7-4d63-bc50-83e361637c01",
   "metadata": {},
   "source": [
    "### Separating the Features and Labels"
   ]
  },
  {
   "cell_type": "code",
   "execution_count": 14,
   "id": "3463b73d-51c7-4bd8-a728-4661b39cd2cf",
   "metadata": {},
   "outputs": [],
   "source": [
    "flight_train_features = flight_train.drop([\"price\", \"price_cat\"], axis = 1)\n",
    "flight_train_labels = flight_train['price']"
   ]
  },
  {
   "cell_type": "markdown",
   "id": "6fc4ea49-cbf8-4c06-95a3-41514ced083b",
   "metadata": {},
   "source": [
    "### Separating the Numerical and Categorical Values"
   ]
  },
  {
   "cell_type": "code",
   "execution_count": 15,
   "id": "11ff531f-a0a4-4b90-8cc3-f280be65d86c",
   "metadata": {},
   "outputs": [],
   "source": [
    "flight_train_num = ['duration', 'days_left']\n",
    "flight_train_cat = ['airline', 'source_city', 'departure_time', 'stops', 'arrival_time', 'destination_city', 'class']"
   ]
  },
  {
   "cell_type": "markdown",
   "id": "beff58c9-762a-447a-8985-b425541adedf",
   "metadata": {},
   "source": [
    "## Let's Start Making Pipelines"
   ]
  },
  {
   "cell_type": "markdown",
   "id": "ca779e5a-3cc0-4c6d-8d79-edd54438c80c",
   "metadata": {},
   "source": [
    "### Numerical and Categorical Pipelines"
   ]
  },
  {
   "cell_type": "code",
   "execution_count": 16,
   "id": "7fd8b3e4-c29c-4780-baa6-bff3c0b5cd63",
   "metadata": {},
   "outputs": [],
   "source": [
    "num_pipeline = Pipeline([\n",
    "    (\"impute\", SimpleImputer(strategy = \"median\")),\n",
    "    (\"scaler\", StandardScaler())\n",
    "])\n",
    "cat_pipeline = Pipeline([\n",
    "    (\"onehot\", OneHotEncoder(handle_unknown = \"ignore\")),\n",
    "])\n",
    "full_pipeline = ColumnTransformer([\n",
    "    (\"num\", num_pipeline, flight_train_num),\n",
    "    (\"cat\", cat_pipeline, flight_train_cat),\n",
    "])"
   ]
  },
  {
   "cell_type": "markdown",
   "id": "abd9b5e2-cf68-4326-a232-4df74cb286ac",
   "metadata": {},
   "source": [
    "### Transforming the Data"
   ]
  },
  {
   "cell_type": "code",
   "execution_count": 17,
   "id": "b51cc40d-d33f-419b-97f0-05b00b45a639",
   "metadata": {},
   "outputs": [],
   "source": [
    "flight_prepared_train = full_pipeline.fit_transform(flight_train_features)"
   ]
  },
  {
   "cell_type": "markdown",
   "id": "2dcb93fa-f4f6-45a6-8b7f-9f91ec2b1237",
   "metadata": {},
   "source": [
    "## Training the Models"
   ]
  },
  {
   "cell_type": "markdown",
   "id": "40485d79-145b-4eaa-8e1a-1cae5fa884f5",
   "metadata": {},
   "source": [
    "### Linear Regression Model for Training Data"
   ]
  },
  {
   "cell_type": "code",
   "execution_count": 18,
   "id": "dd1f2329-feeb-4bf2-9251-55948e4f9004",
   "metadata": {},
   "outputs": [
    {
     "name": "stdout",
     "output_type": "stream",
     "text": [
      "Training the Model........\n",
      "Running Cross Validation........\n",
      "Linear Regression Model for Training Data -:\n",
      "count      10.000000\n",
      "mean    -6761.018630\n",
      "std        64.213674\n",
      "dtype: float64\n",
      "\n",
      "R2 Score:0.91\n",
      "MAE Score:4566.01\n",
      "RMSE Score:6760.56\n"
     ]
    }
   ],
   "source": [
    "lin_model_train = LinearRegression()\n",
    "print(\"Training the Model........\")\n",
    "lin_model_train.fit(flight_prepared_train, flight_train_labels)\n",
    "lin_predict = lin_model_train.predict(flight_prepared_train)\n",
    "lin_R2 = r2_score(flight_train_labels, lin_predict)\n",
    "lin_MAE = mean_absolute_error(flight_train_labels, lin_predict)\n",
    "lin_RMSE = root_mean_squared_error(flight_train_labels, lin_predict)\n",
    "print(\"Running Cross Validation........\")\n",
    "lin_CV = cross_val_score(lin_model_train, flight_prepared_train, flight_train_labels, scoring = \"neg_root_mean_squared_error\", cv = 10)\n",
    "\n",
    "print(\"Linear Regression Model for Training Data -:\")\n",
    "print(pd.Series(lin_CV).agg(['count', 'mean', 'std']))\n",
    "print(f\"\\nR2 Score:{lin_R2:.2f}\")\n",
    "print(f\"MAE Score:{lin_MAE:.2f}\")\n",
    "print(f\"RMSE Score:{lin_RMSE:.2f}\")"
   ]
  },
  {
   "cell_type": "markdown",
   "id": "59fc8aec-5138-4b7f-8abc-70e8d8124b7b",
   "metadata": {},
   "source": [
    "### Random Forest Model for Training Data"
   ]
  },
  {
   "cell_type": "code",
   "execution_count": 19,
   "id": "eb134fad-63c6-4582-98db-71605733f127",
   "metadata": {},
   "outputs": [
    {
     "name": "stdout",
     "output_type": "stream",
     "text": [
      "Training the Model........\n",
      "Random Forest Regression Model for Training Data -:\n",
      "\n",
      "R2 Score:0.98\n",
      "MAE Score:1609.73\n",
      "RMSE Score:3055.52\n"
     ]
    }
   ],
   "source": [
    "forest_model_train = RandomForestRegressor(n_estimators = 100, max_depth = 15, n_jobs = -1)\n",
    "print(\"Training the Model........\")\n",
    "forest_model_train.fit(flight_prepared_train, flight_train_labels)\n",
    "forest_predict = forest_model_train.predict(flight_prepared_train)\n",
    "forest_R2 = r2_score(flight_train_labels, forest_predict)\n",
    "forest_MAE = mean_absolute_error(flight_train_labels, forest_predict)\n",
    "forest_RMSE = root_mean_squared_error(flight_train_labels, forest_predict)\n",
    "# print(\"Running Cross Validation........\")\n",
    "# forest_CV = cross_val_score(forest_model_train, flight_prepared_train, flight_train_labels, scoring = \"neg_root_mean_squared_error\", cv = 10)\n",
    "\n",
    "print(\"Random Forest Regression Model for Training Data -:\")\n",
    "# print(pd.Series(forest_CV).agg(['count', 'mean', 'std']))\n",
    "print(f\"\\nR2 Score:{forest_R2:.2f}\")\n",
    "print(f\"MAE Score:{forest_MAE:.2f}\")\n",
    "print(f\"RMSE Score:{forest_RMSE:.2f}\")"
   ]
  },
  {
   "cell_type": "markdown",
   "id": "d485c451-79aa-43aa-b928-6f3b2c8a36b8",
   "metadata": {},
   "source": [
    "### Gradient Boosting for Training Data"
   ]
  },
  {
   "cell_type": "code",
   "execution_count": 21,
   "id": "439d1dae-2bdd-4b79-8e7a-ed813f71f5fd",
   "metadata": {},
   "outputs": [
    {
     "name": "stdout",
     "output_type": "stream",
     "text": [
      "Training the Model........\n",
      "Gradient Boosting Regression Model for Training Data -:\n",
      "\n",
      "R2 Score:0.95\n",
      "MAE Score:2955.10\n",
      "RMSE Score:4967.25\n"
     ]
    }
   ],
   "source": [
    "grad_model_train = GradientBoostingRegressor()\n",
    "print(\"Training the Model........\")\n",
    "grad_model_train.fit(flight_prepared_train, flight_train_labels)\n",
    "grad_predict = grad_model_train.predict(flight_prepared_train)\n",
    "grad_R2 = r2_score(flight_train_labels, grad_predict)\n",
    "grad_MAE = mean_absolute_error(flight_train_labels, grad_predict)\n",
    "grad_RMSE = root_mean_squared_error(flight_train_labels, grad_predict)\n",
    "# print(\"Running Cross Validation........\")\n",
    "# grad_CV = cross_val_score(grad_model_train, flight_prepared_train, flight_train_labels, scoring = \"neg_root_mean_squared_error\", cv = 10)\n",
    "\n",
    "print(\"Gradient Boosting Regression Model for Training Data -:\")\n",
    "# print(pd.Series(grad_CV).agg(['count', 'mean', 'std']))\n",
    "print(f\"\\nR2 Score:{grad_R2:.2f}\")\n",
    "print(f\"MAE Score:{grad_MAE:.2f}\")\n",
    "print(f\"RMSE Score:{grad_RMSE:.2f}\")"
   ]
  },
  {
   "cell_type": "markdown",
   "id": "b7ee5303-ad13-4de3-815a-df2c2072d979",
   "metadata": {},
   "source": [
    "## Testing the Model - For the Best Training Model which is Gradient Boosting and Random Forest"
   ]
  },
  {
   "cell_type": "markdown",
   "id": "4d8e0bbc-fe9a-421a-a9f0-954533c70be8",
   "metadata": {},
   "source": [
    "### Preprocessing the Data"
   ]
  },
  {
   "cell_type": "code",
   "execution_count": 24,
   "id": "9f398250-466a-4c99-b7b6-9913264a1cd2",
   "metadata": {},
   "outputs": [],
   "source": [
    "flight_test = strat_test_set.copy()\n",
    "flight_test_features = flight_test.drop(['price', 'price_cat'], axis = 1)\n",
    "flight_test_labels = flight_test['price']\n",
    "flight_test_num = ['duration', 'days_left']\n",
    "flight_test_cat = ['airline', 'source_city', 'departure_time', 'stops', 'arrival_time', 'destination_city', 'class']\n",
    "flight_prepared_test = full_pipeline.transform(flight_test_features)"
   ]
  },
  {
   "cell_type": "markdown",
   "id": "face09d3-9e47-4555-82bf-4f370ef5d4e5",
   "metadata": {},
   "source": [
    "### Testing the Model: Random Forest"
   ]
  },
  {
   "cell_type": "code",
   "execution_count": 26,
   "id": "3f25837a-58ec-4443-95ba-78af4f4a2c35",
   "metadata": {
    "scrolled": true
   },
   "outputs": [
    {
     "name": "stdout",
     "output_type": "stream",
     "text": [
      "Random Forest Regression Model for Testing Data -:\n",
      "\n",
      "R2 Score:0.98\n",
      "MAE Score:1766.13\n",
      "RMSE Score:3377.25\n"
     ]
    }
   ],
   "source": [
    "forest_predict_test = forest_model_train.predict(flight_prepared_test)\n",
    "forest_R2_test = r2_score(flight_test_labels, forest_predict_test)\n",
    "forest_MAE_test = mean_absolute_error(flight_test_labels, forest_predict_test)\n",
    "forest_RMSE_test = root_mean_squared_error(flight_test_labels, forest_predict_test)\n",
    "# print(\"Running Cross Validation........\")\n",
    "# forest_CV = cross_val_score(forest_imodel_train, flight_prepared_train, flight_train_labels, scoring = \"neg_root_mean_squared_error\", cv = 10)\n",
    "\n",
    "print(\"Random Forest Regression Model for Testing Data -:\")\n",
    "# print(pd.Series(forest_CV).agg(['count', 'mean', 'std']))\n",
    "print(f\"\\nR2 Score:{forest_R2_test:.2f}\")\n",
    "print(f\"MAE Score:{forest_MAE_test:.2f}\")\n",
    "print(f\"RMSE Score:{forest_RMSE_test:.2f}\")"
   ]
  }
 ],
 "metadata": {
  "kernelspec": {
   "display_name": "Python 3 (ipykernel)",
   "language": "python",
   "name": "python3"
  },
  "language_info": {
   "codemirror_mode": {
    "name": "ipython",
    "version": 3
   },
   "file_extension": ".py",
   "mimetype": "text/x-python",
   "name": "python",
   "nbconvert_exporter": "python",
   "pygments_lexer": "ipython3",
   "version": "3.12.7"
  }
 },
 "nbformat": 4,
 "nbformat_minor": 5
}
