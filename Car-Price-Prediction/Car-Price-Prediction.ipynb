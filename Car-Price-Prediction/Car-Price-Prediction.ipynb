{
 "cells": [
  {
   "cell_type": "markdown",
   "id": "975106fc-c182-4820-805b-e03551d41b0f",
   "metadata": {},
   "source": [
    "### Importing Libraries"
   ]
  },
  {
   "cell_type": "code",
   "execution_count": 1,
   "id": "b3490ef4-f775-4e63-a4c1-95518cbe82f1",
   "metadata": {},
   "outputs": [],
   "source": [
    "import pandas as pd\n",
    "import numpy as np\n",
    "import matplotlib.pyplot as plt\n",
    "import seaborn as sns"
   ]
  },
  {
   "cell_type": "markdown",
   "id": "b504d99d-d10d-4601-a97b-c1cd74a9cc93",
   "metadata": {},
   "source": [
    "### Loading the Data"
   ]
  },
  {
   "cell_type": "code",
   "execution_count": 2,
   "id": "c4df0b3d-b1f8-4ae2-bfc8-1a3eb588f38f",
   "metadata": {},
   "outputs": [],
   "source": [
    "df = pd.read_csv(\"Dataset/cars.csv\")"
   ]
  },
  {
   "cell_type": "markdown",
   "id": "43e731a3-e10c-4fed-8ad0-9c52124b7923",
   "metadata": {},
   "source": [
    "### Analyzing the Data"
   ]
  },
  {
   "cell_type": "code",
   "execution_count": 3,
   "id": "f7869a38-a10f-4000-b633-5b1a93e8dfe7",
   "metadata": {},
   "outputs": [
    {
     "data": {
      "text/html": [
       "<div>\n",
       "<style scoped>\n",
       "    .dataframe tbody tr th:only-of-type {\n",
       "        vertical-align: middle;\n",
       "    }\n",
       "\n",
       "    .dataframe tbody tr th {\n",
       "        vertical-align: top;\n",
       "    }\n",
       "\n",
       "    .dataframe thead th {\n",
       "        text-align: right;\n",
       "    }\n",
       "</style>\n",
       "<table border=\"1\" class=\"dataframe\">\n",
       "  <thead>\n",
       "    <tr style=\"text-align: right;\">\n",
       "      <th></th>\n",
       "      <th>name</th>\n",
       "      <th>year</th>\n",
       "      <th>selling_price</th>\n",
       "      <th>km_driven</th>\n",
       "      <th>fuel</th>\n",
       "      <th>seller_type</th>\n",
       "      <th>transmission</th>\n",
       "      <th>owner</th>\n",
       "    </tr>\n",
       "  </thead>\n",
       "  <tbody>\n",
       "    <tr>\n",
       "      <th>0</th>\n",
       "      <td>Maruti 800 AC</td>\n",
       "      <td>2007</td>\n",
       "      <td>60000</td>\n",
       "      <td>70000</td>\n",
       "      <td>Petrol</td>\n",
       "      <td>Individual</td>\n",
       "      <td>Manual</td>\n",
       "      <td>First Owner</td>\n",
       "    </tr>\n",
       "    <tr>\n",
       "      <th>1</th>\n",
       "      <td>Maruti Wagon R LXI Minor</td>\n",
       "      <td>2007</td>\n",
       "      <td>135000</td>\n",
       "      <td>50000</td>\n",
       "      <td>Petrol</td>\n",
       "      <td>Individual</td>\n",
       "      <td>Manual</td>\n",
       "      <td>First Owner</td>\n",
       "    </tr>\n",
       "    <tr>\n",
       "      <th>2</th>\n",
       "      <td>Hyundai Verna 1.6 SX</td>\n",
       "      <td>2012</td>\n",
       "      <td>600000</td>\n",
       "      <td>100000</td>\n",
       "      <td>Diesel</td>\n",
       "      <td>Individual</td>\n",
       "      <td>Manual</td>\n",
       "      <td>First Owner</td>\n",
       "    </tr>\n",
       "    <tr>\n",
       "      <th>3</th>\n",
       "      <td>Datsun RediGO T Option</td>\n",
       "      <td>2017</td>\n",
       "      <td>250000</td>\n",
       "      <td>46000</td>\n",
       "      <td>Petrol</td>\n",
       "      <td>Individual</td>\n",
       "      <td>Manual</td>\n",
       "      <td>First Owner</td>\n",
       "    </tr>\n",
       "    <tr>\n",
       "      <th>4</th>\n",
       "      <td>Honda Amaze VX i-DTEC</td>\n",
       "      <td>2014</td>\n",
       "      <td>450000</td>\n",
       "      <td>141000</td>\n",
       "      <td>Diesel</td>\n",
       "      <td>Individual</td>\n",
       "      <td>Manual</td>\n",
       "      <td>Second Owner</td>\n",
       "    </tr>\n",
       "  </tbody>\n",
       "</table>\n",
       "</div>"
      ],
      "text/plain": [
       "                       name  year  selling_price  km_driven    fuel  \\\n",
       "0             Maruti 800 AC  2007          60000      70000  Petrol   \n",
       "1  Maruti Wagon R LXI Minor  2007         135000      50000  Petrol   \n",
       "2      Hyundai Verna 1.6 SX  2012         600000     100000  Diesel   \n",
       "3    Datsun RediGO T Option  2017         250000      46000  Petrol   \n",
       "4     Honda Amaze VX i-DTEC  2014         450000     141000  Diesel   \n",
       "\n",
       "  seller_type transmission         owner  \n",
       "0  Individual       Manual   First Owner  \n",
       "1  Individual       Manual   First Owner  \n",
       "2  Individual       Manual   First Owner  \n",
       "3  Individual       Manual   First Owner  \n",
       "4  Individual       Manual  Second Owner  "
      ]
     },
     "execution_count": 3,
     "metadata": {},
     "output_type": "execute_result"
    }
   ],
   "source": [
    "df.head()"
   ]
  },
  {
   "cell_type": "code",
   "execution_count": 4,
   "id": "4ecf6c11-3195-42be-a41b-8bbbc9134bbe",
   "metadata": {},
   "outputs": [
    {
     "data": {
      "text/html": [
       "<div>\n",
       "<style scoped>\n",
       "    .dataframe tbody tr th:only-of-type {\n",
       "        vertical-align: middle;\n",
       "    }\n",
       "\n",
       "    .dataframe tbody tr th {\n",
       "        vertical-align: top;\n",
       "    }\n",
       "\n",
       "    .dataframe thead th {\n",
       "        text-align: right;\n",
       "    }\n",
       "</style>\n",
       "<table border=\"1\" class=\"dataframe\">\n",
       "  <thead>\n",
       "    <tr style=\"text-align: right;\">\n",
       "      <th></th>\n",
       "      <th>name</th>\n",
       "      <th>year</th>\n",
       "      <th>selling_price</th>\n",
       "      <th>km_driven</th>\n",
       "      <th>fuel</th>\n",
       "      <th>seller_type</th>\n",
       "      <th>transmission</th>\n",
       "      <th>owner</th>\n",
       "    </tr>\n",
       "  </thead>\n",
       "  <tbody>\n",
       "    <tr>\n",
       "      <th>4335</th>\n",
       "      <td>Hyundai i20 Magna 1.4 CRDi (Diesel)</td>\n",
       "      <td>2014</td>\n",
       "      <td>409999</td>\n",
       "      <td>80000</td>\n",
       "      <td>Diesel</td>\n",
       "      <td>Individual</td>\n",
       "      <td>Manual</td>\n",
       "      <td>Second Owner</td>\n",
       "    </tr>\n",
       "    <tr>\n",
       "      <th>4336</th>\n",
       "      <td>Hyundai i20 Magna 1.4 CRDi</td>\n",
       "      <td>2014</td>\n",
       "      <td>409999</td>\n",
       "      <td>80000</td>\n",
       "      <td>Diesel</td>\n",
       "      <td>Individual</td>\n",
       "      <td>Manual</td>\n",
       "      <td>Second Owner</td>\n",
       "    </tr>\n",
       "    <tr>\n",
       "      <th>4337</th>\n",
       "      <td>Maruti 800 AC BSIII</td>\n",
       "      <td>2009</td>\n",
       "      <td>110000</td>\n",
       "      <td>83000</td>\n",
       "      <td>Petrol</td>\n",
       "      <td>Individual</td>\n",
       "      <td>Manual</td>\n",
       "      <td>Second Owner</td>\n",
       "    </tr>\n",
       "    <tr>\n",
       "      <th>4338</th>\n",
       "      <td>Hyundai Creta 1.6 CRDi SX Option</td>\n",
       "      <td>2016</td>\n",
       "      <td>865000</td>\n",
       "      <td>90000</td>\n",
       "      <td>Diesel</td>\n",
       "      <td>Individual</td>\n",
       "      <td>Manual</td>\n",
       "      <td>First Owner</td>\n",
       "    </tr>\n",
       "    <tr>\n",
       "      <th>4339</th>\n",
       "      <td>Renault KWID RXT</td>\n",
       "      <td>2016</td>\n",
       "      <td>225000</td>\n",
       "      <td>40000</td>\n",
       "      <td>Petrol</td>\n",
       "      <td>Individual</td>\n",
       "      <td>Manual</td>\n",
       "      <td>First Owner</td>\n",
       "    </tr>\n",
       "  </tbody>\n",
       "</table>\n",
       "</div>"
      ],
      "text/plain": [
       "                                     name  year  selling_price  km_driven  \\\n",
       "4335  Hyundai i20 Magna 1.4 CRDi (Diesel)  2014         409999      80000   \n",
       "4336           Hyundai i20 Magna 1.4 CRDi  2014         409999      80000   \n",
       "4337                  Maruti 800 AC BSIII  2009         110000      83000   \n",
       "4338     Hyundai Creta 1.6 CRDi SX Option  2016         865000      90000   \n",
       "4339                     Renault KWID RXT  2016         225000      40000   \n",
       "\n",
       "        fuel seller_type transmission         owner  \n",
       "4335  Diesel  Individual       Manual  Second Owner  \n",
       "4336  Diesel  Individual       Manual  Second Owner  \n",
       "4337  Petrol  Individual       Manual  Second Owner  \n",
       "4338  Diesel  Individual       Manual   First Owner  \n",
       "4339  Petrol  Individual       Manual   First Owner  "
      ]
     },
     "execution_count": 4,
     "metadata": {},
     "output_type": "execute_result"
    }
   ],
   "source": [
    "df.tail()"
   ]
  },
  {
   "cell_type": "code",
   "execution_count": 5,
   "id": "e8653c0b-a59b-4979-9bb3-4e4e10b3a5f9",
   "metadata": {},
   "outputs": [
    {
     "data": {
      "text/html": [
       "<div>\n",
       "<style scoped>\n",
       "    .dataframe tbody tr th:only-of-type {\n",
       "        vertical-align: middle;\n",
       "    }\n",
       "\n",
       "    .dataframe tbody tr th {\n",
       "        vertical-align: top;\n",
       "    }\n",
       "\n",
       "    .dataframe thead th {\n",
       "        text-align: right;\n",
       "    }\n",
       "</style>\n",
       "<table border=\"1\" class=\"dataframe\">\n",
       "  <thead>\n",
       "    <tr style=\"text-align: right;\">\n",
       "      <th></th>\n",
       "      <th>year</th>\n",
       "      <th>selling_price</th>\n",
       "      <th>km_driven</th>\n",
       "    </tr>\n",
       "  </thead>\n",
       "  <tbody>\n",
       "    <tr>\n",
       "      <th>count</th>\n",
       "      <td>4340.00</td>\n",
       "      <td>4340.00</td>\n",
       "      <td>4340.00</td>\n",
       "    </tr>\n",
       "    <tr>\n",
       "      <th>mean</th>\n",
       "      <td>2013.09</td>\n",
       "      <td>504127.31</td>\n",
       "      <td>66215.78</td>\n",
       "    </tr>\n",
       "    <tr>\n",
       "      <th>std</th>\n",
       "      <td>4.22</td>\n",
       "      <td>578548.74</td>\n",
       "      <td>46644.10</td>\n",
       "    </tr>\n",
       "    <tr>\n",
       "      <th>min</th>\n",
       "      <td>1992.00</td>\n",
       "      <td>20000.00</td>\n",
       "      <td>1.00</td>\n",
       "    </tr>\n",
       "    <tr>\n",
       "      <th>25%</th>\n",
       "      <td>2011.00</td>\n",
       "      <td>208749.75</td>\n",
       "      <td>35000.00</td>\n",
       "    </tr>\n",
       "    <tr>\n",
       "      <th>50%</th>\n",
       "      <td>2014.00</td>\n",
       "      <td>350000.00</td>\n",
       "      <td>60000.00</td>\n",
       "    </tr>\n",
       "    <tr>\n",
       "      <th>75%</th>\n",
       "      <td>2016.00</td>\n",
       "      <td>600000.00</td>\n",
       "      <td>90000.00</td>\n",
       "    </tr>\n",
       "    <tr>\n",
       "      <th>max</th>\n",
       "      <td>2020.00</td>\n",
       "      <td>8900000.00</td>\n",
       "      <td>806599.00</td>\n",
       "    </tr>\n",
       "  </tbody>\n",
       "</table>\n",
       "</div>"
      ],
      "text/plain": [
       "          year  selling_price  km_driven\n",
       "count  4340.00        4340.00    4340.00\n",
       "mean   2013.09      504127.31   66215.78\n",
       "std       4.22      578548.74   46644.10\n",
       "min    1992.00       20000.00       1.00\n",
       "25%    2011.00      208749.75   35000.00\n",
       "50%    2014.00      350000.00   60000.00\n",
       "75%    2016.00      600000.00   90000.00\n",
       "max    2020.00     8900000.00  806599.00"
      ]
     },
     "execution_count": 5,
     "metadata": {},
     "output_type": "execute_result"
    }
   ],
   "source": [
    "df.describe().round(2)"
   ]
  },
  {
   "cell_type": "code",
   "execution_count": 6,
   "id": "643e95bd-b227-462f-a164-804eaecf49a5",
   "metadata": {},
   "outputs": [
    {
     "data": {
      "text/plain": [
       "name             0\n",
       "year             0\n",
       "selling_price    0\n",
       "km_driven        0\n",
       "fuel             0\n",
       "seller_type      0\n",
       "transmission     0\n",
       "owner            0\n",
       "dtype: int64"
      ]
     },
     "execution_count": 6,
     "metadata": {},
     "output_type": "execute_result"
    }
   ],
   "source": [
    "df.isnull().sum()"
   ]
  },
  {
   "cell_type": "code",
   "execution_count": 7,
   "id": "f40bde8d-27f5-42f0-813f-ab6adfa29fcd",
   "metadata": {},
   "outputs": [
    {
     "data": {
      "text/plain": [
       "763"
      ]
     },
     "execution_count": 7,
     "metadata": {},
     "output_type": "execute_result"
    }
   ],
   "source": [
    "df.duplicated().sum()"
   ]
  },
  {
   "cell_type": "code",
   "execution_count": 8,
   "id": "fa143832-44f0-4058-a7a3-0e553cee7bda",
   "metadata": {},
   "outputs": [],
   "source": [
    "df.drop_duplicates(inplace = True)"
   ]
  },
  {
   "cell_type": "code",
   "execution_count": 9,
   "id": "ab353d55-f3a5-4292-9432-35071fc170c5",
   "metadata": {},
   "outputs": [
    {
     "data": {
      "text/plain": [
       "0"
      ]
     },
     "execution_count": 9,
     "metadata": {},
     "output_type": "execute_result"
    }
   ],
   "source": [
    "df.duplicated().sum()"
   ]
  },
  {
   "cell_type": "markdown",
   "id": "e1d1d640-e233-42b6-b256-aaab3662707c",
   "metadata": {},
   "source": [
    "### Feature Engineering"
   ]
  },
  {
   "cell_type": "code",
   "execution_count": 10,
   "id": "513e68af-cb11-4b8f-bc7f-53edfb75ec67",
   "metadata": {},
   "outputs": [],
   "source": [
    "df['Year_Age'] = 2025 - df['year']"
   ]
  },
  {
   "cell_type": "code",
   "execution_count": 11,
   "id": "12953d4f-fc02-4a39-bbb2-3068f2b0b4d0",
   "metadata": {},
   "outputs": [],
   "source": [
    "df['Year_Category'] = pd.cut(df['Year_Age'], bins = [0, 5, 10, np.inf], labels = ['New', 'Mid', 'Old'])"
   ]
  },
  {
   "cell_type": "code",
   "execution_count": 12,
   "id": "05bc85d4-445c-4748-a324-94cd87fa75a2",
   "metadata": {},
   "outputs": [],
   "source": [
    "df.drop(['year'], axis = 1, inplace = True)"
   ]
  },
  {
   "cell_type": "code",
   "execution_count": 13,
   "id": "70811466-dea0-4a0d-b345-c3ad1e161b26",
   "metadata": {},
   "outputs": [],
   "source": [
    "df['brand'] = df['name'].str.split().str[0]\n",
    "df.drop(['name'], axis = 1, inplace = True)"
   ]
  },
  {
   "cell_type": "code",
   "execution_count": 14,
   "id": "79ef16bd-9452-4548-ab5b-ea06ecb7768f",
   "metadata": {},
   "outputs": [],
   "source": [
    "owner_map = {\n",
    "    \"First Owner\": 1,\n",
    "    \"Second Owner\": 2,\n",
    "    \"Third Owner\": 3,\n",
    "    \"Fourth & Above Owner\": 4,\n",
    "    \"Test Drive Car\": 0\n",
    "}\n",
    "df['owner'] = df['owner'].map(owner_map)"
   ]
  },
  {
   "cell_type": "code",
   "execution_count": 15,
   "id": "786e4d0a-b801-4f7a-a50c-f5f53085e3d2",
   "metadata": {},
   "outputs": [],
   "source": [
    "km_driven = np.log1p(df['km_driven'])"
   ]
  },
  {
   "cell_type": "code",
   "execution_count": 16,
   "id": "827efe04-4622-4cdc-8bd0-ee342bdaec5c",
   "metadata": {},
   "outputs": [
    {
     "name": "stdout",
     "output_type": "stream",
     "text": [
      "Number of Cars whose Price less then the Mean of Price is 2286.\n"
     ]
    }
   ],
   "source": [
    "less_mean = (df['selling_price'] < df['selling_price'].mean()).sum()\n",
    "print(f\"Number of Cars whose Price less then the Mean of Price is {less_mean}.\")"
   ]
  },
  {
   "cell_type": "code",
   "execution_count": 17,
   "id": "677bb309-8fa1-4abc-a1af-975bfc673116",
   "metadata": {},
   "outputs": [
    {
     "name": "stdout",
     "output_type": "stream",
     "text": [
      "Number of Cars whose Price less then the Median of Price is 1742.\n"
     ]
    }
   ],
   "source": [
    "less_median = (df['selling_price'] < df['selling_price'].median()).sum()\n",
    "print(f\"Number of Cars whose Price less then the Median of Price is {less_median}.\")"
   ]
  },
  {
   "cell_type": "code",
   "execution_count": 18,
   "id": "88cc48b7-ef70-409c-bab6-fcd6663c4c12",
   "metadata": {},
   "outputs": [
    {
     "name": "stdout",
     "output_type": "stream",
     "text": [
      "The most common brands are -:\n"
     ]
    },
    {
     "data": {
      "text/plain": [
       "brand\n",
       "Maruti        1072\n",
       "Hyundai        637\n",
       "Mahindra       328\n",
       "Tata           308\n",
       "Ford           220\n",
       "Honda          216\n",
       "Toyota         170\n",
       "Chevrolet      151\n",
       "Renault        110\n",
       "Volkswagen      93\n",
       "Name: count, dtype: int64"
      ]
     },
     "execution_count": 18,
     "metadata": {},
     "output_type": "execute_result"
    }
   ],
   "source": [
    "print(\"The most common brands are -:\")\n",
    "df['brand'].value_counts().head(10)"
   ]
  },
  {
   "cell_type": "code",
   "execution_count": 19,
   "id": "cdf48201-20ed-4a66-a4be-7c4c01ee2edf",
   "metadata": {},
   "outputs": [
    {
     "data": {
      "text/html": [
       "<div>\n",
       "<style scoped>\n",
       "    .dataframe tbody tr th:only-of-type {\n",
       "        vertical-align: middle;\n",
       "    }\n",
       "\n",
       "    .dataframe tbody tr th {\n",
       "        vertical-align: top;\n",
       "    }\n",
       "\n",
       "    .dataframe thead th {\n",
       "        text-align: right;\n",
       "    }\n",
       "</style>\n",
       "<table border=\"1\" class=\"dataframe\">\n",
       "  <thead>\n",
       "    <tr style=\"text-align: right;\">\n",
       "      <th></th>\n",
       "      <th>min</th>\n",
       "      <th>max</th>\n",
       "      <th>mean</th>\n",
       "    </tr>\n",
       "    <tr>\n",
       "      <th>brand</th>\n",
       "      <th></th>\n",
       "      <th></th>\n",
       "      <th></th>\n",
       "    </tr>\n",
       "  </thead>\n",
       "  <tbody>\n",
       "    <tr>\n",
       "      <th>Ambassador</th>\n",
       "      <td>50000</td>\n",
       "      <td>430000</td>\n",
       "      <td>200000.00</td>\n",
       "    </tr>\n",
       "    <tr>\n",
       "      <th>Audi</th>\n",
       "      <td>650000</td>\n",
       "      <td>8900000</td>\n",
       "      <td>2185451.61</td>\n",
       "    </tr>\n",
       "    <tr>\n",
       "      <th>BMW</th>\n",
       "      <td>480000</td>\n",
       "      <td>4950000</td>\n",
       "      <td>2242800.00</td>\n",
       "    </tr>\n",
       "    <tr>\n",
       "      <th>Chevrolet</th>\n",
       "      <td>50000</td>\n",
       "      <td>1000000</td>\n",
       "      <td>232713.17</td>\n",
       "    </tr>\n",
       "    <tr>\n",
       "      <th>Daewoo</th>\n",
       "      <td>60000</td>\n",
       "      <td>60000</td>\n",
       "      <td>60000.00</td>\n",
       "    </tr>\n",
       "    <tr>\n",
       "      <th>Datsun</th>\n",
       "      <td>200000</td>\n",
       "      <td>450000</td>\n",
       "      <td>296551.66</td>\n",
       "    </tr>\n",
       "    <tr>\n",
       "      <th>Fiat</th>\n",
       "      <td>55000</td>\n",
       "      <td>890000</td>\n",
       "      <td>287093.72</td>\n",
       "    </tr>\n",
       "    <tr>\n",
       "      <th>Force</th>\n",
       "      <td>346000</td>\n",
       "      <td>346000</td>\n",
       "      <td>346000.00</td>\n",
       "    </tr>\n",
       "    <tr>\n",
       "      <th>Ford</th>\n",
       "      <td>20000</td>\n",
       "      <td>3200000</td>\n",
       "      <td>563627.23</td>\n",
       "    </tr>\n",
       "    <tr>\n",
       "      <th>Honda</th>\n",
       "      <td>65000</td>\n",
       "      <td>1800000</td>\n",
       "      <td>539944.40</td>\n",
       "    </tr>\n",
       "    <tr>\n",
       "      <th>Hyundai</th>\n",
       "      <td>48000</td>\n",
       "      <td>1650000</td>\n",
       "      <td>413340.61</td>\n",
       "    </tr>\n",
       "    <tr>\n",
       "      <th>Isuzu</th>\n",
       "      <td>1500000</td>\n",
       "      <td>1500000</td>\n",
       "      <td>1500000.00</td>\n",
       "    </tr>\n",
       "    <tr>\n",
       "      <th>Jaguar</th>\n",
       "      <td>1800000</td>\n",
       "      <td>2550000</td>\n",
       "      <td>2072999.80</td>\n",
       "    </tr>\n",
       "    <tr>\n",
       "      <th>Jeep</th>\n",
       "      <td>1400000</td>\n",
       "      <td>1700000</td>\n",
       "      <td>1530000.00</td>\n",
       "    </tr>\n",
       "    <tr>\n",
       "      <th>Kia</th>\n",
       "      <td>1300000</td>\n",
       "      <td>1300000</td>\n",
       "      <td>1300000.00</td>\n",
       "    </tr>\n",
       "    <tr>\n",
       "      <th>Land</th>\n",
       "      <td>2349000</td>\n",
       "      <td>4200000</td>\n",
       "      <td>3609800.00</td>\n",
       "    </tr>\n",
       "    <tr>\n",
       "      <th>MG</th>\n",
       "      <td>1825000</td>\n",
       "      <td>1860000</td>\n",
       "      <td>1842500.00</td>\n",
       "    </tr>\n",
       "    <tr>\n",
       "      <th>Mahindra</th>\n",
       "      <td>80000</td>\n",
       "      <td>2700000</td>\n",
       "      <td>584780.45</td>\n",
       "    </tr>\n",
       "    <tr>\n",
       "      <th>Maruti</th>\n",
       "      <td>30000</td>\n",
       "      <td>1100000</td>\n",
       "      <td>332031.21</td>\n",
       "    </tr>\n",
       "    <tr>\n",
       "      <th>Mercedes-Benz</th>\n",
       "      <td>350000</td>\n",
       "      <td>8150000</td>\n",
       "      <td>2299238.10</td>\n",
       "    </tr>\n",
       "    <tr>\n",
       "      <th>Mitsubishi</th>\n",
       "      <td>525000</td>\n",
       "      <td>1090000</td>\n",
       "      <td>843000.00</td>\n",
       "    </tr>\n",
       "    <tr>\n",
       "      <th>Nissan</th>\n",
       "      <td>138000</td>\n",
       "      <td>1350000</td>\n",
       "      <td>457038.40</td>\n",
       "    </tr>\n",
       "    <tr>\n",
       "      <th>OpelCorsa</th>\n",
       "      <td>35000</td>\n",
       "      <td>142000</td>\n",
       "      <td>88500.00</td>\n",
       "    </tr>\n",
       "    <tr>\n",
       "      <th>Renault</th>\n",
       "      <td>200000</td>\n",
       "      <td>1000000</td>\n",
       "      <td>408399.97</td>\n",
       "    </tr>\n",
       "    <tr>\n",
       "      <th>Skoda</th>\n",
       "      <td>90000</td>\n",
       "      <td>1200000</td>\n",
       "      <td>475551.02</td>\n",
       "    </tr>\n",
       "    <tr>\n",
       "      <th>Tata</th>\n",
       "      <td>35000</td>\n",
       "      <td>1700000</td>\n",
       "      <td>278672.40</td>\n",
       "    </tr>\n",
       "    <tr>\n",
       "      <th>Toyota</th>\n",
       "      <td>95000</td>\n",
       "      <td>3200000</td>\n",
       "      <td>838917.59</td>\n",
       "    </tr>\n",
       "    <tr>\n",
       "      <th>Volkswagen</th>\n",
       "      <td>130000</td>\n",
       "      <td>1350000</td>\n",
       "      <td>461666.62</td>\n",
       "    </tr>\n",
       "    <tr>\n",
       "      <th>Volvo</th>\n",
       "      <td>1750000</td>\n",
       "      <td>4500000</td>\n",
       "      <td>2556250.00</td>\n",
       "    </tr>\n",
       "  </tbody>\n",
       "</table>\n",
       "</div>"
      ],
      "text/plain": [
       "                   min      max        mean\n",
       "brand                                      \n",
       "Ambassador       50000   430000   200000.00\n",
       "Audi            650000  8900000  2185451.61\n",
       "BMW             480000  4950000  2242800.00\n",
       "Chevrolet        50000  1000000   232713.17\n",
       "Daewoo           60000    60000    60000.00\n",
       "Datsun          200000   450000   296551.66\n",
       "Fiat             55000   890000   287093.72\n",
       "Force           346000   346000   346000.00\n",
       "Ford             20000  3200000   563627.23\n",
       "Honda            65000  1800000   539944.40\n",
       "Hyundai          48000  1650000   413340.61\n",
       "Isuzu          1500000  1500000  1500000.00\n",
       "Jaguar         1800000  2550000  2072999.80\n",
       "Jeep           1400000  1700000  1530000.00\n",
       "Kia            1300000  1300000  1300000.00\n",
       "Land           2349000  4200000  3609800.00\n",
       "MG             1825000  1860000  1842500.00\n",
       "Mahindra         80000  2700000   584780.45\n",
       "Maruti           30000  1100000   332031.21\n",
       "Mercedes-Benz   350000  8150000  2299238.10\n",
       "Mitsubishi      525000  1090000   843000.00\n",
       "Nissan          138000  1350000   457038.40\n",
       "OpelCorsa        35000   142000    88500.00\n",
       "Renault         200000  1000000   408399.97\n",
       "Skoda            90000  1200000   475551.02\n",
       "Tata             35000  1700000   278672.40\n",
       "Toyota           95000  3200000   838917.59\n",
       "Volkswagen      130000  1350000   461666.62\n",
       "Volvo          1750000  4500000  2556250.00"
      ]
     },
     "execution_count": 19,
     "metadata": {},
     "output_type": "execute_result"
    }
   ],
   "source": [
    "df.groupby('brand')['selling_price'].agg(['min', 'max', 'mean']).round(2)"
   ]
  },
  {
   "cell_type": "code",
   "execution_count": 22,
   "id": "ed183dab-45e5-48c7-9936-8fbec6d29175",
   "metadata": {},
   "outputs": [
    {
     "data": {
      "text/plain": [
       "Text(0.5, 1.0, 'Histogram → Distribution of Price (USD)')"
      ]
     },
     "execution_count": 22,
     "metadata": {},
     "output_type": "execute_result"
    },
    {
     "data": {
      "image/png": "[encoded data removed]",
      "text/plain": [
       "<Figure size 640x480 with 1 Axes>"
      ]
     },
     "metadata": {},
     "output_type": "display_data"
    }
   ],
   "source": [
    "plt.hist(df['selling_price'], bins = 25, edgecolor = 'white', color = 'green')\n",
    "plt.xlabel(\"selling_price\")\n",
    "plt.ylabel(\"Number of Cars\")\n",
    "plt.title(\"Histogram → Distribution of Price (USD)\")"
   ]
  },
  {
   "cell_type": "markdown",
   "id": "1bc09fef-b69c-4007-afba-73f1f22776fb",
   "metadata": {},
   "source": [
    "### Machine Learning"
   ]
  },
  {
   "cell_type": "markdown",
   "id": "0b1f61fb-3891-4cff-8798-e64fdbf8437e",
   "metadata": {},
   "source": [
    "#### Importing Libraries"
   ]
  },
  {
   "cell_type": "code",
   "execution_count": 47,
   "id": "4318fa18-169f-46ea-94a4-c813b3d09cb5",
   "metadata": {},
   "outputs": [],
   "source": [
    "from sklearn.model_selection import StratifiedShuffleSplit\n",
    "from sklearn.pipeline import Pipeline\n",
    "from sklearn.preprocessing import StandardScaler\n",
    "from sklearn.impute import SimpleImputer\n",
    "from sklearn.preprocessing import OneHotEncoder\n",
    "from sklearn.compose import ColumnTransformer\n",
    "from sklearn.linear_model import LinearRegression\n",
    "from sklearn.ensemble import RandomForestRegressor\n",
    "from sklearn.ensemble import GradientBoostingRegressor\n",
    "from sklearn.metrics import r2_score\n",
    "from sklearn.metrics import mean_absolute_error\n",
    "from sklearn.metrics import root_mean_squared_error\n",
    "from sklearn.model_selection import cross_val_score"
   ]
  },
  {
   "cell_type": "markdown",
   "id": "c4cc6a5f-69d6-48cf-a620-91c331d87379",
   "metadata": {},
   "source": [
    "#### Stratified Shuffle Split"
   ]
  },
  {
   "cell_type": "code",
   "execution_count": 24,
   "id": "64c61d3b-3e62-4bc8-8e41-61db5cb47534",
   "metadata": {},
   "outputs": [],
   "source": [
    "df['Price_cat'] = pd.cut(df['selling_price'], bins = [0, 30000, 40000, 50000, 60000, np.inf], labels = [1, 2, 3, 4, 5])\n",
    "split = StratifiedShuffleSplit(n_splits = 1, test_size = 0.2, random_state = 42)\n",
    "for train_set, test_set in split.split(df, df['Price_cat']):\n",
    "    strat_train = df.iloc[train_set]\n",
    "    strat_test = df.iloc[test_set]"
   ]
  },
  {
   "cell_type": "markdown",
   "id": "1cc93037-2929-478f-99d0-97a4ed9b0787",
   "metadata": {},
   "source": [
    "#### Copying the Training Data"
   ]
  },
  {
   "cell_type": "code",
   "execution_count": 48,
   "id": "ed6061dd-db0e-4a2a-8a4c-b3aac677bcba",
   "metadata": {},
   "outputs": [],
   "source": [
    "cars_train = strat_train.copy()"
   ]
  },
  {
   "cell_type": "markdown",
   "id": "bed58dbf-83ea-4ee1-9a6e-526247b0e20c",
   "metadata": {},
   "source": [
    "#### Separating Features and Labels"
   ]
  },
  {
   "cell_type": "code",
   "execution_count": 50,
   "id": "6c727dce-3c9c-415b-9e8a-f251b435b36d",
   "metadata": {},
   "outputs": [],
   "source": [
    "cars_feature_train = cars_train.drop([\"selling_price\", \"Price_cat\"], axis = 1)\n",
    "cars_label_train = cars_train['selling_price']"
   ]
  },
  {
   "cell_type": "code",
   "execution_count": 51,
   "id": "57e09952-8d60-4c87-8940-64fc1be3d137",
   "metadata": {},
   "outputs": [],
   "source": [
    "y_train_log = np.log1p(cars_label_train)"
   ]
  },
  {
   "cell_type": "markdown",
   "id": "e8c51667-eaa5-487d-a119-f5f28991dc5f",
   "metadata": {},
   "source": [
    "#### Separating Numerical and Categorical Data"
   ]
  },
  {
   "cell_type": "code",
   "execution_count": 52,
   "id": "074ba751-09d3-4aaa-91ca-6f350ebaaf58",
   "metadata": {},
   "outputs": [],
   "source": [
    "cars_num_train = ['km_driven', 'owner', 'Year_Age']\n",
    "cars_cat_train = ['brand', 'fuel', 'seller_type', 'transmission', 'Year_Category']"
   ]
  },
  {
   "cell_type": "markdown",
   "id": "271bdb68-d850-4871-bed9-2e4316c3bfcd",
   "metadata": {},
   "source": [
    "### Let's Start Making Pipelines"
   ]
  },
  {
   "cell_type": "markdown",
   "id": "edea1f19-8829-402c-aee3-9cbb6d864af2",
   "metadata": {},
   "source": [
    "#### Numerical and Categorical Pipelines"
   ]
  },
  {
   "cell_type": "code",
   "execution_count": 53,
   "id": "159ccc14-fc45-4d4e-8a3e-1e7f3089f8ed",
   "metadata": {},
   "outputs": [],
   "source": [
    "cat_pipeline = Pipeline([\n",
    "    (\"onehot\", OneHotEncoder(handle_unknown = \"ignore\")),\n",
    "])\n",
    "num_pipeline = Pipeline([\n",
    "    (\"impute\", SimpleImputer(strategy = \"median\")),\n",
    "    (\"scaler\", StandardScaler()),\n",
    "])\n",
    "full_pipeline = ColumnTransformer([\n",
    "    (\"num\", num_pipeline, cars_num_train),\n",
    "    (\"cat\", cat_pipeline, cars_cat_train),\n",
    "])"
   ]
  },
  {
   "cell_type": "markdown",
   "id": "c32d03e7-e213-495e-a447-0f18e6ca98cf",
   "metadata": {},
   "source": [
    "#### Transforming the Data"
   ]
  },
  {
   "cell_type": "code",
   "execution_count": 54,
   "id": "96e2dae7-a6f9-4f18-8e66-15c289deb56d",
   "metadata": {},
   "outputs": [],
   "source": [
    "cars_prepared_train = full_pipeline.fit_transform(cars_feature_train)"
   ]
  },
  {
   "cell_type": "markdown",
   "id": "61cb6e53-2c34-42c8-befa-04bc14283a5e",
   "metadata": {},
   "source": [
    "### Training the Model"
   ]
  },
  {
   "cell_type": "markdown",
   "id": "eede1a89-a7a2-427a-ab95-a1bfe4e60463",
   "metadata": {},
   "source": [
    "#### Linear Regression Model"
   ]
  },
  {
   "cell_type": "code",
   "execution_count": 55,
   "id": "13b450f0-e869-400d-9c56-f2829087ff9a",
   "metadata": {},
   "outputs": [
    {
     "name": "stdout",
     "output_type": "stream",
     "text": [
      "Results of Linear Regressor Model on Training Data -:\n",
      "count    10.000000\n",
      "mean     -0.384517\n",
      "std       0.018104\n",
      "min      -0.408540\n",
      "25%      -0.398639\n",
      "50%      -0.388842\n",
      "75%      -0.370548\n",
      "max      -0.354470\n",
      "dtype: float64\n",
      "R2 Score: 0.73\n",
      "MAE Score: 133150.21\n",
      "RMSE Score: 252800.38\n"
     ]
    }
   ],
   "source": [
    "lin_model = LinearRegression()\n",
    "lin_model.fit(cars_prepared_train, y_train_log)\n",
    "lin_predict = lin_model.predict(cars_prepared_train)\n",
    "lin_predict_real = np.expm1(lin_predict)\n",
    "lin_CV = cross_val_score(lin_model, cars_prepared_train, y_train_log, scoring = \"neg_root_mean_squared_error\", cv = 10)\n",
    "lin_R2 = r2_score(cars_label_train, lin_predict_real)\n",
    "lin_MAE = mean_absolute_error(cars_label_train, lin_predict_real)\n",
    "lin_RMSE = root_mean_squared_error(cars_label_train, lin_predict_real)\n",
    "\n",
    "print(\"Results of Linear Regressor Model on Training Data -:\")\n",
    "print(pd.Series(lin_CV).describe())\n",
    "print(f\"R2 Score: {lin_R2:.2f}\")\n",
    "print(f\"MAE Score: {lin_MAE:.2f}\")\n",
    "print(f\"RMSE Score: {lin_RMSE:.2f}\")"
   ]
  },
  {
   "cell_type": "markdown",
   "id": "db29dbcf-d297-42df-96d1-d4632df36aff",
   "metadata": {},
   "source": [
    "#### Random Forest Regressor Model"
   ]
  },
  {
   "cell_type": "code",
   "execution_count": 56,
   "id": "be7b31f6-7273-405c-a339-7c368592a0f4",
   "metadata": {},
   "outputs": [
    {
     "name": "stdout",
     "output_type": "stream",
     "text": [
      "Training the Model.......\n",
      "Running Cross Validations.......\n",
      "Results of Random Forest Regressor Model on Training Data -:\n",
      "count    3.000000\n",
      "mean    -0.410436\n",
      "std      0.016261\n",
      "min     -0.423889\n",
      "25%     -0.419471\n",
      "50%     -0.415053\n",
      "75%     -0.403709\n",
      "max     -0.392365\n",
      "dtype: float64\n",
      "R2 Score: 0.87\n",
      "MAE Score: 73861.78\n",
      "RMSE Score: 175323.41\n"
     ]
    }
   ],
   "source": [
    "forest_model = RandomForestRegressor(\n",
    "    n_estimators = 250,\n",
    "    max_depth = None,\n",
    "    min_samples_split = 4,\n",
    "    min_samples_leaf = 1,\n",
    "    random_state = 42,\n",
    "    n_jobs = -1 \n",
    ")\n",
    "print(\"Training the Model.......\")\n",
    "forest_model.fit(cars_prepared_train, y_train_log)\n",
    "forest_predict = forest_model.predict(cars_prepared_train)\n",
    "forest_predict_real = np.expm1(forest_predict)\n",
    "print(\"Running Cross Validations.......\")\n",
    "forest_CV = cross_val_score(forest_model, cars_prepared_train, y_train_log, scoring = \"neg_root_mean_squared_error\", cv = 3, n_jobs = -1)\n",
    "forest_R2 = r2_score(cars_label_train, forest_predict_real)\n",
    "forest_MAE = mean_absolute_error(cars_label_train, forest_predict_real)\n",
    "forest_RMSE = root_mean_squared_error(cars_label_train, forest_predict_real)\n",
    "\n",
    "print(\"Results of Random Forest Regressor Model on Training Data -:\")\n",
    "print(pd.Series(forest_CV).describe())\n",
    "print(f\"R2 Score: {forest_R2:.2f}\")\n",
    "print(f\"MAE Score: {forest_MAE:.2f}\")\n",
    "print(f\"RMSE Score: {forest_RMSE:.2f}\")"
   ]
  },
  {
   "cell_type": "code",
   "execution_count": 57,
   "id": "31a24243-fa84-4769-ba75-352b243b2fb9",
   "metadata": {},
   "outputs": [
    {
     "name": "stdout",
     "output_type": "stream",
     "text": [
      "Training the Model......\n",
      "Running Cross Validations.......\n",
      "Results of Gradient Boosting on Training Data -:\n",
      "count    10.000000\n",
      "mean     -0.373492\n",
      "std       0.018114\n",
      "min      -0.409190\n",
      "25%      -0.386985\n",
      "50%      -0.367524\n",
      "75%      -0.357902\n",
      "max      -0.355316\n",
      "dtype: float64\n",
      "R2 Score: 0.81\n",
      "MAE Score: 117057.71\n",
      "RMSE Score: 211239.79\n"
     ]
    }
   ],
   "source": [
    "grad_model = GradientBoostingRegressor(\n",
    "    n_estimators = 1000,\n",
    "    learning_rate = 0.01,\n",
    "    max_depth = 4,\n",
    "    min_samples_split=5,\n",
    "    min_samples_leaf = 3,\n",
    "    random_state = 42\n",
    ")\n",
    "print(\"Training the Model......\")\n",
    "grad_model.fit(cars_prepared_train, y_train_log)\n",
    "grad_predict = grad_model.predict(cars_prepared_train)\n",
    "grad_predict_real = np.expm1(grad_predict)\n",
    "print(\"Running Cross Validations.......\")\n",
    "grad_CV = cross_val_score(grad_model, cars_prepared_train, y_train_log, scoring = \"neg_root_mean_squared_error\", cv = 10)\n",
    "grad_R2 = r2_score(cars_label_train, grad_predict_real)\n",
    "grad_MAE = mean_absolute_error(cars_label_train, grad_predict_real)\n",
    "grad_RMSE = root_mean_squared_error(cars_label_train, grad_predict_real)\n",
    "\n",
    "print(\"Results of Gradient Boosting on Training Data -:\")\n",
    "print(pd.Series(grad_CV).describe())\n",
    "print(f\"R2 Score: {grad_R2:.2f}\")\n",
    "print(f\"MAE Score: {grad_MAE:.2f}\")\n",
    "print(f\"RMSE Score: {grad_RMSE:.2f}\")"
   ]
  },
  {
   "cell_type": "markdown",
   "id": "efaaf0cf-d53f-4711-a9fe-3b927a8dbf7e",
   "metadata": {},
   "source": [
    "### Evaluating on Test Set"
   ]
  },
  {
   "cell_type": "code",
   "execution_count": 58,
   "id": "655da146-05bd-44bb-95e0-3a72e494cb98",
   "metadata": {},
   "outputs": [],
   "source": [
    "cars_test = strat_test.copy()"
   ]
  },
  {
   "cell_type": "code",
   "execution_count": 59,
   "id": "941ea1ad-6247-41a2-af11-0ae33b85f9d2",
   "metadata": {},
   "outputs": [],
   "source": [
    "cars_feature_test = cars_test.drop([\"selling_price\", \"Price_cat\"], axis = 1)\n",
    "cars_label_test = cars_test['selling_price']"
   ]
  },
  {
   "cell_type": "code",
   "execution_count": 60,
   "id": "bd39dd43-dca6-40db-a704-e40b20e6f74c",
   "metadata": {},
   "outputs": [],
   "source": [
    "y_test_log = np.log1p(cars_label_test)"
   ]
  },
  {
   "cell_type": "code",
   "execution_count": 61,
   "id": "263bdae3-b453-47e6-bcb7-39dfa4d5a576",
   "metadata": {},
   "outputs": [],
   "source": [
    "cars_num_test = ['km_driven', 'owner', 'Year_Age']\n",
    "cars_cat_test = ['brand', 'fuel', 'seller_type', 'transmission', 'Year_Category']"
   ]
  },
  {
   "cell_type": "code",
   "execution_count": 62,
   "id": "7d50048d-e0ef-4f55-9efe-c24f317cbdf1",
   "metadata": {},
   "outputs": [],
   "source": [
    "cars_prepared_test = full_pipeline.transform(cars_feature_test)"
   ]
  },
  {
   "cell_type": "code",
   "execution_count": 64,
   "id": "8065985d-6a62-4c03-8422-0c67fd8c3074",
   "metadata": {},
   "outputs": [
    {
     "name": "stdout",
     "output_type": "stream",
     "text": [
      "Results of Linear Regressor Model on Test Data -:\n",
      "R2 Score: 0.71\n",
      "MAE Score: 146291.03\n",
      "RMSE Score: 324148.14\n"
     ]
    }
   ],
   "source": [
    "lin_predict_test = lin_model.predict(cars_prepared_test)\n",
    "lin_predict_real_test = np.expm1(lin_predict_test)\n",
    "lin_R2_test = r2_score(cars_label_test, lin_predict_real_test)\n",
    "lin_MA_test = mean_absolute_error(cars_label_test, lin_predict_real_test)\n",
    "lin_RMSE_test = root_mean_squared_error(cars_label_test, lin_predict_real_test)\n",
    "\n",
    "print(\"Results of Linear Regressor Model on Test Data -:\")\n",
    "print(f\"R2 Score: {lin_R2_test:.2f}\")\n",
    "print(f\"MAE Score: {lin_MA_test:.2f}\")\n",
    "print(f\"RMSE Score: {lin_RMSE_test:.2f}\")"
   ]
  },
  {
   "cell_type": "code",
   "execution_count": 70,
   "id": "95139e53-693e-4674-90b1-1fde4546ac59",
   "metadata": {},
   "outputs": [
    {
     "name": "stdout",
     "output_type": "stream",
     "text": [
      "Evaluating.......\n",
      "Results of Random Forest Regressor Model on Test Data -:\n",
      "R2 Score: 0.64\n",
      "MAE Score: 149552.02\n",
      "RMSE Score: 362913.11\n"
     ]
    }
   ],
   "source": [
    "forest_predict_test = forest_model.predict(cars_prepared_test)\n",
    "forest_predict_real_test = np.expm1(forest_predict_test)\n",
    "print(\"Evaluating.......\")\n",
    "forest_R2_test = r2_score(cars_label_test, forest_predict_real_test)\n",
    "forest_MAE_test = mean_absolute_error(cars_label_test, forest_predict_real_test)\n",
    "forest_RMSE_test = root_mean_squared_error(cars_label_test, forest_predict_real_test)\n",
    "\n",
    "print(\"Results of Random Forest Regressor Model on Test Data -:\")\n",
    "print(f\"R2 Score: {forest_R2_test:.2f}\")\n",
    "print(f\"MAE Score: {forest_MAE_test:.2f}\")\n",
    "print(f\"RMSE Score: {forest_RMSE_test:.2f}\")"
   ]
  },
  {
   "cell_type": "code",
   "execution_count": 71,
   "id": "b47c7d34-9cdb-47ac-8036-0925384ec248",
   "metadata": {},
   "outputs": [
    {
     "name": "stdout",
     "output_type": "stream",
     "text": [
      "Results of Gradient Boosting on Training Data -:\n",
      "R2 Score: 0.69\n",
      "MAE Score: 148883.58\n",
      "RMSE Score: 336641.55\n"
     ]
    }
   ],
   "source": [
    "grad_predict_test = grad_model.predict(cars_prepared_test)\n",
    "grad_predict_real_test = np.expm1(grad_predict_test)\n",
    "grad_R2_test = r2_score(cars_label_test, grad_predict_real_test)\n",
    "grad_MAE_test = mean_absolute_error(cars_label_test, grad_predict_real_test)\n",
    "grad_RMSE_test = root_mean_squared_error(cars_label_test, grad_predict_real_test)\n",
    "\n",
    "print(\"Results of Gradient Boosting on Training Data -:\")\n",
    "print(f\"R2 Score: {grad_R2_test:.2f}\")\n",
    "print(f\"MAE Score: {grad_MAE_test:.2f}\")\n",
    "print(f\"RMSE Score: {grad_RMSE_test:.2f}\")"
   ]
  },
  {
   "cell_type": "markdown",
   "id": "12dd9c6b-622b-4cfe-a209-d01a0c42fc13",
   "metadata": {},
   "source": [
    "#### In this project, I built a machine learning pipeline to predict used car resale prices. The workflow included feature engineering (Car Age, Year Category, Brand extraction, log transformation of km_driven), preprocessing pipelines for numeric and categorical variables, and training multiple models (Linear Regression, Random Forest, Gradient Boosting).\n",
    "\n",
    "#### The results showed that while Linear Regression provided a stable baseline (R² ≈ 0.71 on test data), Random Forest suffered from overfitting (Train R² ≈ 0.87, Test R² ≈ 0.64). Gradient Boosting generalized slightly better (R² ≈ 0.69, RMSE lower than RF), but overall performance was limited. Errors remained high (MAE ≈ ₹1.4–1.5L, RMSE ≈ ₹3L+), indicating that the available dataset lacked important predictive features such as car variant, location, service history, and condition.\n",
    "\n",
    "#### This project highlights an important lesson in applied machine learning: model performance is constrained by data quality. Even with advanced models and careful preprocessing, the absence of key features limits predictive power."
   ]
  }
 ],
 "metadata": {
  "kernelspec": {
   "display_name": "Python 3 (ipykernel)",
   "language": "python",
   "name": "python3"
  },
  "language_info": {
   "codemirror_mode": {
    "name": "ipython",
    "version": 3
   },
   "file_extension": ".py",
   "mimetype": "text/x-python",
   "name": "python",
   "nbconvert_exporter": "python",
   "pygments_lexer": "ipython3",
   "version": "3.12.7"
  }
 },
 "nbformat": 4,
 "nbformat_minor": 5
}
